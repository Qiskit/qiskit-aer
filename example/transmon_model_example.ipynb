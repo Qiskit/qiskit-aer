{
 "cells": [
  {
   "cell_type": "markdown",
   "metadata": {},
   "source": [
    "#  Transmon model generator usage example"
   ]
  },
  {
   "cell_type": "markdown",
   "metadata": {},
   "source": [
    "Demonstrating transmon model generator usage"
   ]
  },
  {
   "cell_type": "code",
   "execution_count": 1,
   "metadata": {},
   "outputs": [],
   "source": [
    "# general libraries\n",
    "import numpy as np\n",
    "import matplotlib.pyplot as plt\n",
    "from scipy.optimize import curve_fit\n",
    "\n",
    "# qiskit and pulse stuff\n",
    "import qiskit\n",
    "import qiskit.pulse as pulse\n",
    "import qiskit.pulse.pulse_lib as pulse_lib\n",
    "from qiskit.compiler import assemble\n",
    "\n",
    "# new model generator function\n",
    "from qiskit.providers.aer.openpulse.transmon_model_generators import transmon_system_model"
   ]
  },
  {
   "cell_type": "markdown",
   "metadata": {},
   "source": [
    "## Specify system model\n",
    "\n",
    "Parameters here are based on `FakeOpenPulse2Q` so that the schedules from that notebook can be used here"
   ]
  },
  {
   "cell_type": "code",
   "execution_count": 2,
   "metadata": {},
   "outputs": [],
   "source": [
    "# number of qubits and cutoff dimensions\n",
    "num_transmons = 2\n",
    "dim_transmons = 3\n",
    "\n",
    "# frequencies for transmon drift terms, harmonic term and anharmonic term\n",
    "transmon_freqs = [5.0, 5.1]\n",
    "anharmonicity_freqs = [-0.33, -0.33]\n",
    "\n",
    "# transmon drive strengths\n",
    "drive_strengths = [0.02, 0.02]\n",
    "\n",
    "# specify coupling as a dictionary (it says qubits 0 and 1 are coupled with a coefficient 0.02)\n",
    "coupling_dict = {(0,1): 0.01}\n",
    "\n",
    "# time \n",
    "dt = 1.\n",
    "\n",
    "# create the model\n",
    "system_model, cr_idx_dict = transmon_system_model(num_transmons=num_transmons, \n",
    "                                                  dim_transmons=dim_transmons,\n",
    "                                                  transmon_freqs=transmon_freqs,\n",
    "                                                  anharm_freqs=anharmonicity_freqs,\n",
    "                                                  drive_strengths=drive_strengths,\n",
    "                                                  coupling_dict=coupling_dict,\n",
    "                                                  dt=dt)"
   ]
  },
  {
   "cell_type": "markdown",
   "metadata": {},
   "source": [
    "The returned items are: \n",
    "- `system_model`, an instance of `PulseSystemModel` consumable by the simulator representing the specified transmon system model. \n",
    "- `cr_idx_dict`, a dict storing information on the index of the channel for a given CR drive. Specifically, when two qubits are coupled in the model, two CR drive channels are created for doing CR drives in both directions, and `cr_idx_dict` keeps track of the indices for these channels. E.g. in the above we specified the coupling `(0,1)`. When performing a CR drive on qubit 0 with target 1, use u channel with index `cr_idx_dict[(0,1)]`, and when performing a CR drive on qubit 1 with target 0, use u channel with index `cr_idx_dict[(1,0)]`"
   ]
  },
  {
   "cell_type": "markdown",
   "metadata": {},
   "source": [
    "# Do Rabi experiment from previous example notebook using this model\n",
    "\n",
    "## First set up schedules"
   ]
  },
  {
   "cell_type": "code",
   "execution_count": 3,
   "metadata": {},
   "outputs": [],
   "source": [
    "#qubit to use for exeperiment\n",
    "qubit = 0\n",
    "# exp configuration\n",
    "exps = 41\n",
    "shots = 512\n",
    "\n",
    "# Rabi pulse\n",
    "drive_amps = np.linspace(0, 0.9, exps)\n",
    "drive_samples = 128\n",
    "drive_sigma = 16\n",
    "\n",
    "# Measurement pulse\n",
    "meas_amp = 0.025\n",
    "meas_samples = 1200\n",
    "meas_sigma = 4\n",
    "meas_risefall = 25\n",
    "\n",
    "# Measurement pulse (common for all experiment)\n",
    "meas_pulse = pulse_lib.gaussian_square(duration=meas_samples, amp=meas_amp,\n",
    "                                       sigma=meas_sigma, risefall=meas_risefall, \n",
    "                                       name='meas_pulse')\n",
    "acq_cmd=pulse.Acquire(duration=meas_samples)\n",
    "\n",
    "acquire_channels = [pulse.AcquireChannel(0), pulse.AcquireChannel(1)]\n",
    "memoryslots = [pulse.MemorySlot(0), pulse.MemorySlot(1)]\n",
    "\n",
    "# create measurement schedule\n",
    "measure_and_acquire = meas_pulse(pulse.MeasureChannel(0)) | acq_cmd(acquire_channels, memoryslots)\n",
    "\n",
    "# Create schedule\n",
    "schedules = []\n",
    "for ii, drive_amp in enumerate(drive_amps):\n",
    "    # drive pulse\n",
    "    rabi_pulse = pulse_lib.gaussian(duration=drive_samples, \n",
    "                                    amp=drive_amp, \n",
    "                                    sigma=drive_sigma, name='rabi_pulse_%d' % ii)\n",
    "    \n",
    "    # add commands to schedule\n",
    "    schedule = pulse.Schedule(name='rabi_exp_amp_%s' % drive_amp)\n",
    "    \n",
    "    schedule += rabi_pulse(pulse.DriveChannel(0))\n",
    "    schedule += measure_and_acquire << schedule.duration\n",
    " \n",
    "    schedules.append(schedule)"
   ]
  },
  {
   "cell_type": "markdown",
   "metadata": {},
   "source": [
    "## Set up simulation"
   ]
  },
  {
   "cell_type": "code",
   "execution_count": 4,
   "metadata": {},
   "outputs": [
    {
     "name": "stderr",
     "output_type": "stream",
     "text": [
      "/Users/dpuzzuoli/anaconda3/envs/QiskitDev/lib/python3.7/site-packages/qiskit/providers/models/pulsedefaults.py:166: UserWarning: `qubit_freq_est` and `meas_freq_est` now have units of Hertz(Hz) rather than gigahertz(GHz).\n",
      "  warnings.warn('`qubit_freq_est` and `meas_freq_est` now have units of '\n"
     ]
    }
   ],
   "source": [
    "# import simulator\n",
    "backend_sim = qiskit.Aer.get_backend('pulse_simulator')\n",
    "\n",
    "# construct qobj. In this case we want to use channel frequencies computed directly from the Hamiltonian\n",
    "qubit_lo_freq = system_model.hamiltonian.get_qubit_lo_from_drift()\n",
    "rabi_qobj = assemble(schedules,\n",
    "                     backend=backend_sim,\n",
    "                     qubit_lo_freq=qubit_lo_freq,\n",
    "                     meas_level=1, \n",
    "                     meas_return='avg', \n",
    "                     memory_slots=2,\n",
    "                     shots=shots)"
   ]
  },
  {
   "cell_type": "markdown",
   "metadata": {},
   "source": [
    "## Run simulation"
   ]
  },
  {
   "cell_type": "code",
   "execution_count": 5,
   "metadata": {},
   "outputs": [],
   "source": [
    "sim_result = backend_sim.run(rabi_qobj, system_model).result()"
   ]
  },
  {
   "cell_type": "markdown",
   "metadata": {},
   "source": [
    "## Extract results and plot"
   ]
  },
  {
   "cell_type": "code",
   "execution_count": 6,
   "metadata": {},
   "outputs": [
    {
     "name": "stdout",
     "output_type": "stream",
     "text": [
      "Pi Amplitude 0.314285\n"
     ]
    },
    {
     "data": {
      "image/png": "[encoded data removed]",
      "text/plain": [
       "<Figure size 432x288 with 1 Axes>"
      ]
     },
     "metadata": {
      "needs_background": "light"
     },
     "output_type": "display_data"
    }
   ],
   "source": [
    "amp_data_Q0 = []\n",
    "amp_data_Q1 = []\n",
    "\n",
    "for exp_idx in range(len(drive_amps)):\n",
    "    exp_mem = sim_result.get_memory(exp_idx)\n",
    "    amp_data_Q0.append(np.abs(exp_mem[0]))\n",
    "    amp_data_Q1.append(np.abs(exp_mem[1]))\n",
    "    \n",
    "#Fit the data\n",
    "fit_func = lambda x,A,B,T,phi: (A*np.cos(2*np.pi*x/T+phi)+B)\n",
    "fitparams, conv = curve_fit(fit_func, drive_amps, amp_data_Q0, [0.5,0.5,0.6,1.5])\n",
    "\n",
    "#get the pi amplitude\n",
    "pi_amp = (fitparams[3])*fitparams[2]/2/np.pi\n",
    "\n",
    "plt.plot(drive_amps, amp_data_Q0, label='Q0')\n",
    "plt.plot(drive_amps, amp_data_Q1, label='Q1')\n",
    "plt.plot(drive_amps, fit_func(drive_amps, *fitparams), color='black', linestyle='dashed', label='Fit')\n",
    "plt.axvline(pi_amp, color='black', linestyle='dashed')\n",
    "plt.legend()\n",
    "plt.xlabel('Pulse amplitude, a.u.', fontsize=20)\n",
    "plt.ylabel('Signal, a.u.', fontsize=20)\n",
    "plt.title('Rabi on Q0', fontsize=20)\n",
    "plt.grid(True)\n",
    "\n",
    "print('Pi Amplitude %f'%(pi_amp))"
   ]
  },
  {
   "cell_type": "markdown",
   "metadata": {},
   "source": [
    "# Cross-Resonance\n",
    "\n",
    "Run the cross resonance (demonstrate usage of `cr_idx_dict`)"
   ]
  },
  {
   "cell_type": "code",
   "execution_count": 7,
   "metadata": {},
   "outputs": [],
   "source": [
    "#qubit to use for experiment\n",
    "target_qubit = 0\n",
    "driven_qubit = 1\n",
    "\n",
    "# drive qubit 1 with target 0\n",
    "cr_idx = cr_idx_dict[(driven_qubit, target_qubit)]\n",
    "\n",
    "\n",
    "# exp configuration\n",
    "exps = 41\n",
    "shots = 512\n",
    "\n",
    "# Rabi pulse\n",
    "cr_drive_amps = np.linspace(0, 0.9, exps)\n",
    "cr_drive_samples = 128*3\n",
    "cr_drive_sigma = 4\n",
    "\n",
    "\n",
    "# Create schedule\n",
    "schedules = []\n",
    "for ii, cr_drive_amp in enumerate(cr_drive_amps):\n",
    "    # drive pulse\n",
    "    cr_rabi_pulse = pulse_lib.gaussian_square(duration=cr_drive_samples, \n",
    "                                    amp=cr_drive_amp, \n",
    "                                    risefall=cr_drive_sigma*4,\n",
    "                                    sigma=cr_drive_sigma, name='rabi_pulse_%d' % ii)\n",
    "    \n",
    "    # add commands to schedule\n",
    "    schedule = pulse.Schedule(name='cr_rabi_exp_amp_%s' % cr_drive_amp)\n",
    "    \n",
    "    schedule += cr_rabi_pulse(pulse.ControlChannel(cr_idx))\n",
    "    schedule += measure_and_acquire << schedule.duration\n",
    " \n",
    "    schedules.append(schedule)"
   ]
  },
  {
   "cell_type": "code",
   "execution_count": 8,
   "metadata": {},
   "outputs": [
    {
     "data": {
      "image/png": "[encoded data removed]",
      "text/plain": [
       "<Figure size 432x288 with 1 Axes>"
      ]
     },
     "metadata": {
      "needs_background": "light"
     },
     "output_type": "display_data"
    }
   ],
   "source": [
    "# assemble, run experiment, plot data\n",
    "cr_rabi_qobj = assemble(schedules, \n",
    "                        qubit_lo_freq=qubit_lo_freq,\n",
    "                        backend=backend_sim,\n",
    "                        meas_level=1, \n",
    "                        meas_return='avg', \n",
    "                        memory_slots=2,\n",
    "                        shots=shots)\n",
    "sim_result = backend_sim.run(cr_rabi_qobj, system_model).result()\n",
    "\n",
    "amp_data_Q0 = []\n",
    "amp_data_Q1 = []\n",
    "\n",
    "for exp_idx in range(len(cr_drive_amps)):\n",
    "    exp_mem = sim_result.get_memory(exp_idx)\n",
    "    amp_data_Q0.append(np.abs(exp_mem[0]))\n",
    "    amp_data_Q1.append(np.abs(exp_mem[1]))\n",
    "    \n",
    "\n",
    "plt.plot(drive_amps, amp_data_Q0, label='Q0')\n",
    "plt.plot(drive_amps, amp_data_Q1, label='Q1')\n",
    "plt.legend()\n",
    "plt.xlabel('Pulse amplitude, a.u.', fontsize=20)\n",
    "plt.ylabel('Signal, a.u.', fontsize=20)\n",
    "plt.title('CR (Target Q{0}, driving on Q{1})'.format(str(target_qubit),str(driven_qubit)), fontsize=20)\n",
    "plt.grid(True)"
   ]
  },
  {
   "cell_type": "code",
   "execution_count": null,
   "metadata": {},
   "outputs": [],
   "source": []
  }
 ],
 "metadata": {
  "kernelspec": {
   "display_name": "Python 3",
   "language": "python",
   "name": "python3"
  },
  "language_info": {
   "codemirror_mode": {
    "name": "ipython",
    "version": 3
   },
   "file_extension": ".py",
   "mimetype": "text/x-python",
   "name": "python",
   "nbconvert_exporter": "python",
   "pygments_lexer": "ipython3",
   "version": "3.7.5"
  }
 },
 "nbformat": 4,
 "nbformat_minor": 2
}
