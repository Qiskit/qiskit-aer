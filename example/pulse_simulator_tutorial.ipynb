{
 "cells": [
  {
   "cell_type": "markdown",
   "metadata": {},
   "source": [
    "# Qiskit Aer: Pulse Simulator\n",
    "\n",
    "To do:\n",
    "- Intro to PulseSystemModel, using generators for transmon systems\n",
    "- Doing a simulation follow-up to the previous point: set up a system, create some sort of basic `Schedule`, show how to run it. Not sure if this should be something that generates an interesting plot, or just something that shows how to run the simulator.\n",
    "- Example of running something on a device, then running it on the simulator, where the `PulseSystemModel` has been generated from the backend\n",
    "    - This needs to be a calibration procedure, preferably similar to Dave's notebook for ease"
   ]
  },
  {
   "cell_type": "markdown",
   "metadata": {},
   "source": [
    "## Introduction\n",
    "\n",
    "This notebook shows how to use the Aer pulse simulator, which simulates an OpenPulse `Schedule` on a quantum system at the Hamiltonian level."
   ]
  },
  {
   "cell_type": "code",
   "execution_count": 46,
   "metadata": {},
   "outputs": [],
   "source": [
    "import numpy as np\n",
    "import matplotlib.pyplot as plt\n",
    "from scipy.optimize import curve_fit\n",
    "\n",
    "from qiskit import IBMQ\n",
    "\n",
    "# for constructing and specifying pulse experiments\n",
    "import qiskit.pulse as pulse\n",
    "import qiskit.pulse.pulse_lib as pulse_lib\n",
    "from qiskit.compiler import assemble\n",
    "from qiskit.qobj.utils import MeasLevel, MeasReturnType\n",
    "\n",
    "# system model object\n",
    "from qiskit.providers.aer.openpulse.pulse_system_model import PulseSystemModel\n",
    "\n",
    "# function for construct transmon device models\n",
    "from qiskit.providers.aer.openpulse.transmon_model_generators import transmon_system_model"
   ]
  },
  {
   "cell_type": "markdown",
   "metadata": {},
   "source": [
    "## Models of pulse devices\n",
    "\n",
    "The physical model is stored in a `PulseSystemModel` object. This object stores all information required to specify a physical system ready for pulse control."
   ]
  },
  {
   "cell_type": "markdown",
   "metadata": {},
   "source": [
    "### Generating transmon models from user specified inputs\n",
    "\n",
    "The function `transmon_system_model` constructs a `PulseSystemModel` for a transmon system specified in terms of individual qubit terms, and a coupling map with coupling strenghts."
   ]
  },
  {
   "cell_type": "code",
   "execution_count": null,
   "metadata": {},
   "outputs": [],
   "source": [
    "# number of qubits and cutoff dimensions\n",
    "num_transmons = 2\n",
    "dim_transmons = 3\n",
    "\n",
    "# frequencies for transmon drift terms, harmonic term and anharmonic term\n",
    "transmon_freqs = [5.0, 5.1]\n",
    "anharmonicity_freqs = [-0.33, -0.33]\n",
    "\n",
    "# transmon drive strengths\n",
    "drive_strengths = [0.02, 0.02]\n",
    "\n",
    "# specify coupling as a dictionary (it says qubits 0 and 1 are coupled with a coefficient 0.02)\n",
    "coupling_dict = {(0,1): 0.01}\n",
    "\n",
    "# time \n",
    "dt = 1.\n",
    "\n",
    "# create the model\n",
    "user_defined_model, cr_idx_dict = transmon_system_model(num_transmons=num_transmons, \n",
    "                                                        dim_transmons=dim_transmons,\n",
    "                                                        transmon_freqs=transmon_freqs,\n",
    "                                                        anharm_freqs=anharmonicity_freqs,\n",
    "                                                        drive_strengths=drive_strengths,\n",
    "                                                        coupling_dict=coupling_dict,\n",
    "                                                        dt=dt)"
   ]
  },
  {
   "cell_type": "markdown",
   "metadata": {},
   "source": [
    "The returned items are: \n",
    "- `system_model`, an instance of `PulseSystemModel` consumable by the simulator representing the specified transmon system model. \n",
    "- `cr_idx_dict`, a dict storing information on the index of the channel for a given CR drive. Specifically, when two qubits are coupled in the model, two CR drive channels are created for doing CR drives in both directions, and `cr_idx_dict` keeps track of the indices for these channels. E.g. in the above we specified the coupling `(0,1)`. When performing a CR drive on qubit 0 with target 1, use u channel with index `cr_idx_dict[(0,1)]`, and when performing a CR drive on qubit 1 with target 0, use u channel with index `cr_idx_dict[(1,0)]`"
   ]
  },
  {
   "cell_type": "markdown",
   "metadata": {},
   "source": [
    "### Generating transmon models from backends\n",
    "\n",
    "Alternatively, one may wish to model from an IBM backend. In this case, it is possible to construct one from the backend. The `ibmq_armonk` backend is a single qubit, pulse-enabled device."
   ]
  },
  {
   "cell_type": "code",
   "execution_count": 7,
   "metadata": {},
   "outputs": [
    {
     "name": "stderr",
     "output_type": "stream",
     "text": [
      "/Users/dpuzzuoli/anaconda3/envs/QiskitDev/lib/python3.7/site-packages/qiskit/providers/ibmq/ibmqfactory.py:181: UserWarning: Credentials are already in use. The existing account in the session will be replaced.\n",
      "  warnings.warn('Credentials are already in use. The existing '\n"
     ]
    }
   ],
   "source": [
    "provider = IBMQ.load_account()\n",
    "provider.backends()\n",
    "armonk_backend = provider.get_backend('ibmq_armonk')"
   ]
  },
  {
   "cell_type": "markdown",
   "metadata": {},
   "source": [
    "We can construct a model directly from the backend using the `.from_backend` constructor."
   ]
  },
  {
   "cell_type": "code",
   "execution_count": 37,
   "metadata": {},
   "outputs": [
    {
     "data": {
      "text/plain": [
       "OrderedDict([('omegad0', 0), ('wq0', 31.254351486844612)])"
      ]
     },
     "execution_count": 37,
     "metadata": {},
     "output_type": "execute_result"
    }
   ],
   "source": [
    "armonk_model = PulseSystemModel.from_backend(armonk_backend)\n",
    "\n",
    "armonk_model.hamiltonian._variables"
   ]
  },
  {
   "cell_type": "markdown",
   "metadata": {},
   "source": [
    "Note: the above is problematic, as the numbers for the hamiltonian in the backend don't necessarily even have values, e.g. the drive strength in the armonk backend is set to $0$, presumably as there is no well known 'reasonable' number to put in. Furthermore, the units of the qubit frequency are in $rad \\times$ GHz still, so are inconsistent with the Hz convention.\n",
    "\n",
    "The easiest way around this might be to re-introduce the 'set variable' method back into `HamiltonianModel`."
   ]
  },
  {
   "cell_type": "markdown",
   "metadata": {},
   "source": [
    "# Running a pulse schedule on the simulator"
   ]
  },
  {
   "cell_type": "markdown",
   "metadata": {},
   "source": [
    "First, construct a list of pulse experiments in `Schedule` objects. \n",
    "\n",
    "Note: This is taken directly from\n",
    "https://github.com/Qiskit/qiskit-iqx-tutorials/blob/master/qiskit/advanced/ignis/1a_calibrating_a_qubit.ipynb\n",
    "One option is to not run it on the device here at all, but to just reference that tutorial. On the other hand, if that tutorial changes it could mess things up here."
   ]
  },
  {
   "cell_type": "code",
   "execution_count": 21,
   "metadata": {},
   "outputs": [],
   "source": [
    "defaults = armonk_backend.defaults()\n",
    "config = armonk_backend.configuration()\n",
    "\n",
    "circ_inst_map = defaults.circuit_instruction_map\n",
    "\n",
    "measure = circ_inst_map.get('measure', qubits=config.meas_map[0])\n",
    "\n",
    "# qubit to use for experiment\n",
    "qubit = 0\n",
    "\n",
    "# exp configuration\n",
    "exps = 64\n",
    "shots = 512\n",
    "\n",
    "# Rabi pulse\n",
    "drive_amps = np.linspace(0, 1.0, exps)\n",
    "drive_samples = 2048\n",
    "drive_sigma = 256\n",
    "\n",
    "# scaling factor for data returned by backend\n",
    "# note: You may have to adjust this for the backend you use\n",
    "scale_factor=1e-10\n",
    "\n",
    "# Create schedule\n",
    "schedules = []\n",
    "for ii, drive_amp in enumerate(drive_amps):\n",
    "    # drive pulse\n",
    "    rabi_pulse = pulse_lib.gaussian(duration=drive_samples, amp=drive_amp, sigma=drive_sigma, name='rabi_pulse_%d' % ii)\n",
    "    \n",
    "    # add commands to schedule\n",
    "    schedule = pulse.Schedule(name='Rabi Experiment at drive amp = %s' % drive_amp)\n",
    "    \n",
    "    schedule |= rabi_pulse(pulse.DriveChannel(qubit))\n",
    "    schedule |= measure << schedule.duration\n",
    " \n",
    "    schedules.append(schedule)\n",
    "    \n",
    "rabi_qobj = assemble(schedules, armonk_backend, \n",
    "                     meas_level=MeasLevel.KERNELED, \n",
    "                     meas_return=MeasReturnType.AVERAGE, \n",
    "                     shots=shots)"
   ]
  },
  {
   "cell_type": "markdown",
   "metadata": {},
   "source": [
    "Run the job"
   ]
  },
  {
   "cell_type": "code",
   "execution_count": 23,
   "metadata": {},
   "outputs": [],
   "source": [
    "job = armonk_backend.run(rabi_qobj)"
   ]
  },
  {
   "cell_type": "code",
   "execution_count": 40,
   "metadata": {},
   "outputs": [
    {
     "data": {
      "text/plain": [
       "<JobStatus.DONE: 'job has successfully run'>"
      ]
     },
     "execution_count": 40,
     "metadata": {},
     "output_type": "execute_result"
    }
   ],
   "source": [
    "job.status()"
   ]
  },
  {
   "cell_type": "code",
   "execution_count": 41,
   "metadata": {},
   "outputs": [],
   "source": [
    "rabi_result = job.result(timeout=3600)"
   ]
  },
  {
   "cell_type": "code",
   "execution_count": 58,
   "metadata": {},
   "outputs": [
    {
     "name": "stdout",
     "output_type": "stream",
     "text": [
      "Pi Amplitude 0.328711\n"
     ]
    },
    {
     "data": {
      "image/png": "[encoded data removed]",
      "text/plain": [
       "<Figure size 432x288 with 1 Axes>"
      ]
     },
     "metadata": {
      "needs_background": "light"
     },
     "output_type": "display_data"
    }
   ],
   "source": [
    "qubit_rabi_data = np.ones(exps, dtype=np.complex_)\n",
    "for i in range(exps):\n",
    "    qubit_rabi_data[i] = rabi_result.get_memory(i)[qubit]*scale_factor\n",
    "    \n",
    "    \n",
    "def get_amplitude(vec):\n",
    "    i_signal = np.imag(vec)\n",
    "    r_signal = np.real(vec)\n",
    "\n",
    "    mvec = [np.mean(r_signal), np.mean(i_signal)]\n",
    "\n",
    "    src_mat = np.vstack((r_signal - mvec[0], i_signal - mvec[1])).T\n",
    "    (_, _, v_mat) = np.linalg.svd(src_mat)\n",
    "\n",
    "    dvec = v_mat[0, 0:2]\n",
    "\n",
    "    if dvec.dot(mvec) < 0:\n",
    "        dvec = -dvec\n",
    "\n",
    "    return src_mat.dot(dvec)    \n",
    "\n",
    "rabi_amp_data = get_amplitude(qubit_rabi_data)\n",
    "\n",
    "fit_func = lambda x,A,B,Omega,phi: (A*np.cos(2*np.pi*x/Omega+phi)+B)\n",
    "\n",
    "#Fit the data\n",
    "fitparams, conv = curve_fit(fit_func, drive_amps, rabi_amp_data, [7.0,0.0,1.0,0.3])\n",
    "\n",
    "#get the pi amplitude\n",
    "pi_amp = (np.pi-fitparams[3])*fitparams[2]/4/np.pi\n",
    "#pi_amp = (fitparams[3])*fitparams[2]/2/np.pi\n",
    "\n",
    "plt.scatter(drive_amps, rabi_amp_data)\n",
    "plt.plot(drive_amps, fit_func(drive_amps, *fitparams), color='red')\n",
    "plt.axvline(pi_amp, color='black', linestyle='dashed')\n",
    "plt.xlim(0, 1)\n",
    "plt.ylim(-8, 8)\n",
    "plt.xlabel('Pulse amplitude, a.u.', fontsize=20)\n",
    "plt.ylabel('Signal, a.u.', fontsize=20)\n",
    "plt.title('Rough Pi Amplitude Calibration', fontsize=20)\n",
    "\n",
    "print('Pi Amplitude %f'%(pi_amp))"
   ]
  },
  {
   "cell_type": "markdown",
   "metadata": {},
   "source": [
    "## Run it on the simulator"
   ]
  },
  {
   "cell_type": "code",
   "execution_count": 61,
   "metadata": {},
   "outputs": [
    {
     "ename": "ValueError",
     "evalue": "not enough values to unpack (expected 2, got 0)",
     "output_type": "error",
     "traceback": [
      "\u001b[0;31m---------------------------------------------------------------------------\u001b[0m",
      "\u001b[0;31mValueError\u001b[0m                                Traceback (most recent call last)",
      "\u001b[0;32m<ipython-input-61-0cef37cdea1d>\u001b[0m in \u001b[0;36m<module>\u001b[0;34m\u001b[0m\n\u001b[1;32m     23\u001b[0m                                                   \u001b[0mdrive_strengths\u001b[0m\u001b[0;34m=\u001b[0m\u001b[0mdrive_strengths\u001b[0m\u001b[0;34m,\u001b[0m\u001b[0;34m\u001b[0m\u001b[0;34m\u001b[0m\u001b[0m\n\u001b[1;32m     24\u001b[0m                                                   \u001b[0mcoupling_dict\u001b[0m\u001b[0;34m=\u001b[0m\u001b[0mcoupling_dict\u001b[0m\u001b[0;34m,\u001b[0m\u001b[0;34m\u001b[0m\u001b[0;34m\u001b[0m\u001b[0m\n\u001b[0;32m---> 25\u001b[0;31m                                                   dt=dt)\n\u001b[0m",
      "\u001b[0;32m~/anaconda3/envs/QiskitDev/lib/python3.7/site-packages/qiskit/providers/aer/openpulse/transmon_model_generators.py\u001b[0m in \u001b[0;36mtransmon_system_model\u001b[0;34m(num_transmons, dim_transmons, transmon_freqs, anharm_freqs, drive_strengths, coupling_dict, dt, freq_symbol, anharm_symbol, drive_symbol, coupling_symbol)\u001b[0m\n\u001b[1;32m    126\u001b[0m                                                   \u001b[0mcoupling_strengths\u001b[0m\u001b[0;34m=\u001b[0m\u001b[0mcoupling_strengths\u001b[0m\u001b[0;34m,\u001b[0m\u001b[0;34m\u001b[0m\u001b[0;34m\u001b[0m\u001b[0m\n\u001b[1;32m    127\u001b[0m                                                   \u001b[0mcoupling_symbols\u001b[0m\u001b[0;34m=\u001b[0m\u001b[0mcoupling_symbols\u001b[0m\u001b[0;34m,\u001b[0m\u001b[0;34m\u001b[0m\u001b[0;34m\u001b[0m\u001b[0m\n\u001b[0;32m--> 128\u001b[0;31m                                                   cr_idx_dict=cr_idx_dict)\n\u001b[0m\u001b[1;32m    129\u001b[0m \u001b[0;34m\u001b[0m\u001b[0m\n\u001b[1;32m    130\u001b[0m     \u001b[0mhamiltonian_model\u001b[0m \u001b[0;34m=\u001b[0m \u001b[0mHamiltonianModel\u001b[0m\u001b[0;34m.\u001b[0m\u001b[0mfrom_dict\u001b[0m\u001b[0;34m(\u001b[0m\u001b[0mhamiltonian_dict\u001b[0m\u001b[0;34m)\u001b[0m\u001b[0;34m\u001b[0m\u001b[0;34m\u001b[0m\u001b[0m\n",
      "\u001b[0;32m~/anaconda3/envs/QiskitDev/lib/python3.7/site-packages/qiskit/providers/aer/openpulse/transmon_model_generators.py\u001b[0m in \u001b[0;36m_transmon_hamiltonian_dict\u001b[0;34m(transmons, transmon_dims, transmon_freqs, freq_symbols, anharm_freqs, anharm_symbols, drive_strengths, drive_symbols, ordered_coupling_edges, coupling_strengths, coupling_symbols, cr_idx_dict)\u001b[0m\n\u001b[1;32m    194\u001b[0m \u001b[0;34m\u001b[0m\u001b[0m\n\u001b[1;32m    195\u001b[0m     \u001b[0;31m# exchange terms\u001b[0m\u001b[0;34m\u001b[0m\u001b[0;34m\u001b[0m\u001b[0;34m\u001b[0m\u001b[0m\n\u001b[0;32m--> 196\u001b[0;31m     \u001b[0mhamiltonian_str\u001b[0m \u001b[0;34m+=\u001b[0m \u001b[0m_exchange_coupling_terms\u001b[0m\u001b[0;34m(\u001b[0m\u001b[0mcoupling_symbols\u001b[0m\u001b[0;34m,\u001b[0m \u001b[0mordered_coupling_edges\u001b[0m\u001b[0;34m)\u001b[0m\u001b[0;34m\u001b[0m\u001b[0;34m\u001b[0m\u001b[0m\n\u001b[0m\u001b[1;32m    197\u001b[0m \u001b[0;34m\u001b[0m\u001b[0m\n\u001b[1;32m    198\u001b[0m     \u001b[0;31m# cr terms\u001b[0m\u001b[0;34m\u001b[0m\u001b[0;34m\u001b[0m\u001b[0;34m\u001b[0m\u001b[0m\n",
      "\u001b[0;32m~/anaconda3/envs/QiskitDev/lib/python3.7/site-packages/qiskit/providers/aer/openpulse/transmon_model_generators.py\u001b[0m in \u001b[0;36m_exchange_coupling_terms\u001b[0;34m(coupling_symbols, ordered_edges)\u001b[0m\n\u001b[1;32m    289\u001b[0m     \"\"\"\n\u001b[1;32m    290\u001b[0m \u001b[0;34m\u001b[0m\u001b[0m\n\u001b[0;32m--> 291\u001b[0;31m     \u001b[0midx1_list\u001b[0m\u001b[0;34m,\u001b[0m \u001b[0midx2_list\u001b[0m \u001b[0;34m=\u001b[0m \u001b[0mzip\u001b[0m\u001b[0;34m(\u001b[0m\u001b[0;34m*\u001b[0m\u001b[0mlist\u001b[0m\u001b[0;34m(\u001b[0m\u001b[0mordered_edges\u001b[0m\u001b[0;34m)\u001b[0m\u001b[0;34m)\u001b[0m\u001b[0;34m\u001b[0m\u001b[0;34m\u001b[0m\u001b[0m\n\u001b[0m\u001b[1;32m    292\u001b[0m \u001b[0;34m\u001b[0m\u001b[0m\n\u001b[1;32m    293\u001b[0m     return _str_list_generator('2*np.pi*{0}*(Sp{1}*Sm{2}+Sm{1}*Sp{2})',\n",
      "\u001b[0;31mValueError\u001b[0m: not enough values to unpack (expected 2, got 0)"
     ]
    }
   ],
   "source": [
    "# number of qubits and cutoff dimensions\n",
    "num_transmons = 1\n",
    "dim_transmons = 2\n",
    "\n",
    "# frequencies for transmon drift terms, harmonic term and anharmonic term\n",
    "transmon_freqs = [5.0]\n",
    "anharmonicity_freqs = [-0.33]\n",
    "\n",
    "# transmon drive strengths\n",
    "drive_strengths = [0.02]\n",
    "\n",
    "# specify coupling as a dictionary (it says qubits 0 and 1 are coupled with a coefficient 0.02)\n",
    "coupling_dict = {}\n",
    "\n",
    "# time \n",
    "dt = 1.\n",
    "\n",
    "# create the model\n",
    "armonk_model, cr_idx_dict = transmon_system_model(num_transmons=num_transmons, \n",
    "                                                  dim_transmons=dim_transmons,\n",
    "                                                  transmon_freqs=transmon_freqs,\n",
    "                                                  anharm_freqs=anharmonicity_freqs,\n",
    "                                                  drive_strengths=drive_strengths,\n",
    "                                                  coupling_dict=coupling_dict,\n",
    "                                                  dt=dt)"
   ]
  },
  {
   "cell_type": "code",
   "execution_count": 34,
   "metadata": {},
   "outputs": [
    {
     "data": {
      "text/plain": [
       "[(Quantum object: dims = [[2], [2]], shape = (2, 2), type = oper, isherm = True\n",
       "  Qobj data =\n",
       "  [[0. 0.]\n",
       "   [0. 2.]], 'wq0/2'),\n",
       " (Quantum object: dims = [[2], [2]], shape = (2, 2), type = oper, isherm = True\n",
       "  Qobj data =\n",
       "  [[0. 1.]\n",
       "   [1. 0.]], 'omegad0*D0')]"
      ]
     },
     "execution_count": 34,
     "metadata": {},
     "output_type": "execute_result"
    }
   ],
   "source": [
    "armonk_model.hamiltonian._system"
   ]
  },
  {
   "cell_type": "code",
   "execution_count": 36,
   "metadata": {},
   "outputs": [
    {
     "data": {
      "text/plain": [
       "[0]"
      ]
     },
     "execution_count": 36,
     "metadata": {},
     "output_type": "execute_result"
    }
   ],
   "source": []
  },
  {
   "cell_type": "code",
   "execution_count": 66,
   "metadata": {},
   "outputs": [],
   "source": [
    "from qiskit.providers.aer.openpulse.transmon_model_generators import _coupling_graph"
   ]
  },
  {
   "cell_type": "code",
   "execution_count": 67,
   "metadata": {},
   "outputs": [],
   "source": [
    "test = _coupling_graph({})"
   ]
  },
  {
   "cell_type": "code",
   "execution_count": 71,
   "metadata": {},
   "outputs": [
    {
     "data": {
      "text/plain": [
       "[]"
      ]
     },
     "execution_count": 71,
     "metadata": {},
     "output_type": "execute_result"
    }
   ],
   "source": [
    "test.sorted_graph"
   ]
  },
  {
   "cell_type": "code",
   "execution_count": 72,
   "metadata": {},
   "outputs": [
    {
     "data": {
      "text/plain": [
       "1"
      ]
     },
     "execution_count": 72,
     "metadata": {},
     "output_type": "execute_result"
    }
   ],
   "source": [
    "len([[]])"
   ]
  },
  {
   "cell_type": "code",
   "execution_count": null,
   "metadata": {},
   "outputs": [],
   "source": []
  }
 ],
 "metadata": {
  "kernelspec": {
   "display_name": "Python 3",
   "language": "python",
   "name": "python3"
  },
  "language_info": {
   "codemirror_mode": {
    "name": "ipython",
    "version": 3
   },
   "file_extension": ".py",
   "mimetype": "text/x-python",
   "name": "python",
   "nbconvert_exporter": "python",
   "pygments_lexer": "ipython3",
   "version": "3.7.5"
  }
 },
 "nbformat": 4,
 "nbformat_minor": 2
}
