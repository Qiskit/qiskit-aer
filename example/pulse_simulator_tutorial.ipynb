{
 "cells": [
  {
   "cell_type": "markdown",
   "metadata": {},
   "source": [
    "# Qiskit Aer: Pulse Simulator\n",
    "\n",
    "To do:\n",
    "- Intro to PulseSystemModel, using generators for transmon systems\n",
    "- Doing a simulation follow-up to the previous point: set up a system, create some sort of basic `Schedule`, show how to run it. Not sure if this should be something that generates an interesting plot, or just something that shows how to run the simulator.\n",
    "- Example of running something on a device, then running it on the simulator, where the `PulseSystemModel` has been generated from the backend\n",
    "    - This needs to be a calibration procedure, preferably similar to Dave's notebook for ease"
   ]
  },
  {
   "cell_type": "markdown",
   "metadata": {},
   "source": [
    "## Introduction\n",
    "\n",
    "This notebook shows how to use the Aer pulse simulator, which simulates an OpenPulse `Schedule` on a quantum system at the Hamiltonian level."
   ]
  },
  {
   "cell_type": "code",
   "execution_count": 16,
   "metadata": {},
   "outputs": [],
   "source": [
    "# pulse system model object\n",
    "from qiskit.providers.aer.openpulse.pulse_system_model import PulseSystemModel\n",
    "\n",
    "# function for construct transmon device models\n",
    "from qiskit.providers.aer.openpulse.transmon_model_generators import transmon_system_model"
   ]
  },
  {
   "cell_type": "markdown",
   "metadata": {},
   "source": [
    "## Models of pulse devices\n",
    "\n",
    "The physical model is stored in a `PulseSystemModel` object. This object stores all information required to specify a physical system ready for pulse control."
   ]
  },
  {
   "cell_type": "markdown",
   "metadata": {},
   "source": [
    "### Generating transmon models from user specified inputs\n",
    "\n",
    "The function `transmon_system_model` constructs a `PulseSystemModel` for a transmon system specified in terms of individual qubit terms, and a coupling map with coupling strenghts."
   ]
  },
  {
   "cell_type": "code",
   "execution_count": 1,
   "metadata": {},
   "outputs": [],
   "source": [
    "# number of qubits and cutoff dimensions\n",
    "num_transmons = 2\n",
    "dim_transmons = 3\n",
    "\n",
    "# frequencies for transmon drift terms, harmonic term and anharmonic term\n",
    "transmon_freqs = [5.0, 5.1]\n",
    "anharmonicity_freqs = [-0.33, -0.33]\n",
    "\n",
    "# transmon drive strengths\n",
    "drive_strengths = [0.02, 0.02]\n",
    "\n",
    "# specify coupling as a dictionary (it says qubits 0 and 1 are coupled with a coefficient 0.02)\n",
    "coupling_dict = {(0,1): 0.01}\n",
    "\n",
    "# time \n",
    "dt = 1.\n",
    "\n",
    "# create the model\n",
    "user_defined_transmon_model, cr_idx_dict = transmon_system_model(num_transmons=num_transmons, \n",
    "                                                                 dim_transmons=dim_transmons,\n",
    "                                                                 transmon_freqs=transmon_freqs,\n",
    "                                                                 anharm_freqs=anharmonicity_freqs,\n",
    "                                                                 drive_strengths=drive_strengths,\n",
    "                                                                 coupling_dict=coupling_dict,\n",
    "                                                                 dt=dt)"
   ]
  },
  {
   "cell_type": "markdown",
   "metadata": {},
   "source": [
    "The returned items are: \n",
    "- `system_model`, an instance of `PulseSystemModel` consumable by the simulator representing the specified transmon system model. \n",
    "- `cr_idx_dict`, a dict storing information on the index of the channel for a given CR drive. Specifically, when two qubits are coupled in the model, two CR drive channels are created for doing CR drives in both directions, and `cr_idx_dict` keeps track of the indices for these channels. E.g. in the above we specified the coupling `(0,1)`. When performing a CR drive on qubit 0 with target 1, use u channel with index `cr_idx_dict[(0,1)]`, and when performing a CR drive on qubit 1 with target 0, use u channel with index `cr_idx_dict[(1,0)]`"
   ]
  },
  {
   "cell_type": "markdown",
   "metadata": {},
   "source": [
    "### Generating transmon models from backends\n",
    "\n",
    "Alternatively, one may wish to model from an IBM backend. In this case, it is possible to construct one from the backend.\n",
    "\n",
    "Note: don't know what the right backend to use for this is."
   ]
  },
  {
   "cell_type": "code",
   "execution_count": 13,
   "metadata": {},
   "outputs": [],
   "source": [
    "from qiskit import IBMQ\n",
    "\n",
    "provider = IBMQ.load_account()\n",
    "provider.backends()\n",
    "armonk_backend = provider.get_backend('ibmq_armonk')"
   ]
  },
  {
   "cell_type": "code",
   "execution_count": 17,
   "metadata": {},
   "outputs": [
    {
     "name": "stderr",
     "output_type": "stream",
     "text": [
      "/Users/dpuzzuoli/anaconda3/envs/QiskitDev/lib/python3.7/site-packages/qiskit/providers/models/pulsedefaults.py:166: UserWarning: `qubit_freq_est` and `meas_freq_est` now have units of Hertz(Hz) rather than gigahertz(GHz).\n",
      "  warnings.warn('`qubit_freq_est` and `meas_freq_est` now have units of '\n"
     ]
    },
    {
     "ename": "AerError",
     "evalue": "'Oscillator-type systems are not supported.'",
     "output_type": "error",
     "traceback": [
      "\u001b[0;31m---------------------------------------------------------------------------\u001b[0m",
      "\u001b[0;31mAerError\u001b[0m                                  Traceback (most recent call last)",
      "\u001b[0;32m<ipython-input-17-c3c566b45f19>\u001b[0m in \u001b[0;36m<module>\u001b[0;34m\u001b[0m\n\u001b[0;32m----> 1\u001b[0;31m \u001b[0mtest\u001b[0m \u001b[0;34m=\u001b[0m \u001b[0mPulseSystemModel\u001b[0m\u001b[0;34m.\u001b[0m\u001b[0mfrom_backend\u001b[0m\u001b[0;34m(\u001b[0m\u001b[0marmonk_backend\u001b[0m\u001b[0;34m)\u001b[0m\u001b[0;34m\u001b[0m\u001b[0;34m\u001b[0m\u001b[0m\n\u001b[0m",
      "\u001b[0;32m~/anaconda3/envs/QiskitDev/lib/python3.7/site-packages/qiskit/providers/aer/openpulse/pulse_system_model.py\u001b[0m in \u001b[0;36mfrom_backend\u001b[0;34m(cls, backend, qubit_list)\u001b[0m\n\u001b[1;32m     91\u001b[0m         \u001b[0;31m# if no qubit_list, use all for device\u001b[0m\u001b[0;34m\u001b[0m\u001b[0;34m\u001b[0m\u001b[0;34m\u001b[0m\u001b[0m\n\u001b[1;32m     92\u001b[0m         \u001b[0mqubit_list\u001b[0m \u001b[0;34m=\u001b[0m \u001b[0mqubit_list\u001b[0m \u001b[0;32mor\u001b[0m \u001b[0mlist\u001b[0m\u001b[0;34m(\u001b[0m\u001b[0mrange\u001b[0m\u001b[0;34m(\u001b[0m\u001b[0mconfig\u001b[0m\u001b[0;34m[\u001b[0m\u001b[0;34m'n_qubits'\u001b[0m\u001b[0;34m]\u001b[0m\u001b[0;34m)\u001b[0m\u001b[0;34m)\u001b[0m\u001b[0;34m\u001b[0m\u001b[0;34m\u001b[0m\u001b[0m\n\u001b[0;32m---> 93\u001b[0;31m         \u001b[0mhamiltonian\u001b[0m \u001b[0;34m=\u001b[0m \u001b[0mHamiltonianModel\u001b[0m\u001b[0;34m.\u001b[0m\u001b[0mfrom_dict\u001b[0m\u001b[0;34m(\u001b[0m\u001b[0mconfig\u001b[0m\u001b[0;34m[\u001b[0m\u001b[0;34m'hamiltonian'\u001b[0m\u001b[0;34m]\u001b[0m\u001b[0;34m,\u001b[0m \u001b[0mqubit_list\u001b[0m\u001b[0;34m)\u001b[0m\u001b[0;34m\u001b[0m\u001b[0;34m\u001b[0m\u001b[0m\n\u001b[0m\u001b[1;32m     94\u001b[0m         \u001b[0mu_channel_lo\u001b[0m \u001b[0;34m=\u001b[0m \u001b[0mconfig\u001b[0m\u001b[0;34m.\u001b[0m\u001b[0mget\u001b[0m\u001b[0;34m(\u001b[0m\u001b[0;34m'u_channel_lo'\u001b[0m\u001b[0;34m,\u001b[0m \u001b[0;32mNone\u001b[0m\u001b[0;34m)\u001b[0m\u001b[0;34m\u001b[0m\u001b[0;34m\u001b[0m\u001b[0m\n\u001b[1;32m     95\u001b[0m         \u001b[0mdt\u001b[0m \u001b[0;34m=\u001b[0m \u001b[0mconfig\u001b[0m\u001b[0;34m.\u001b[0m\u001b[0mget\u001b[0m\u001b[0;34m(\u001b[0m\u001b[0;34m'dt'\u001b[0m\u001b[0;34m,\u001b[0m \u001b[0;32mNone\u001b[0m\u001b[0;34m)\u001b[0m\u001b[0;34m\u001b[0m\u001b[0;34m\u001b[0m\u001b[0m\n",
      "\u001b[0;32m~/anaconda3/envs/QiskitDev/lib/python3.7/site-packages/qiskit/providers/aer/openpulse/hamiltonian_model.py\u001b[0m in \u001b[0;36mfrom_dict\u001b[0;34m(cls, hamiltonian, qubit_list)\u001b[0m\n\u001b[1;32m     87\u001b[0m         \"\"\"\n\u001b[1;32m     88\u001b[0m \u001b[0;34m\u001b[0m\u001b[0m\n\u001b[0;32m---> 89\u001b[0;31m         \u001b[0m_hamiltonian_parse_exceptions\u001b[0m\u001b[0;34m(\u001b[0m\u001b[0mhamiltonian\u001b[0m\u001b[0;34m)\u001b[0m\u001b[0;34m\u001b[0m\u001b[0;34m\u001b[0m\u001b[0m\n\u001b[0m\u001b[1;32m     90\u001b[0m \u001b[0;34m\u001b[0m\u001b[0m\n\u001b[1;32m     91\u001b[0m         \u001b[0;31m# get variables\u001b[0m\u001b[0;34m\u001b[0m\u001b[0;34m\u001b[0m\u001b[0;34m\u001b[0m\u001b[0m\n",
      "\u001b[0;32m~/anaconda3/envs/QiskitDev/lib/python3.7/site-packages/qiskit/providers/aer/openpulse/hamiltonian_model.py\u001b[0m in \u001b[0;36m_hamiltonian_parse_exceptions\u001b[0;34m(hamiltonian)\u001b[0m\n\u001b[1;32m    228\u001b[0m     \"\"\"\n\u001b[1;32m    229\u001b[0m     \u001b[0;32mif\u001b[0m \u001b[0;34m'osc'\u001b[0m \u001b[0;32min\u001b[0m \u001b[0mhamiltonian\u001b[0m\u001b[0;34m:\u001b[0m\u001b[0;34m\u001b[0m\u001b[0;34m\u001b[0m\u001b[0m\n\u001b[0;32m--> 230\u001b[0;31m         \u001b[0;32mraise\u001b[0m \u001b[0mAerError\u001b[0m\u001b[0;34m(\u001b[0m\u001b[0;34m'Oscillator-type systems are not supported.'\u001b[0m\u001b[0;34m)\u001b[0m\u001b[0;34m\u001b[0m\u001b[0;34m\u001b[0m\u001b[0m\n\u001b[0m\u001b[1;32m    231\u001b[0m \u001b[0;34m\u001b[0m\u001b[0m\n\u001b[1;32m    232\u001b[0m \u001b[0;34m\u001b[0m\u001b[0m\n",
      "\u001b[0;31mAerError\u001b[0m: 'Oscillator-type systems are not supported.'"
     ]
    }
   ],
   "source": [
    "test = PulseSystemModel.from_backend(armonk_backend)\n"
   ]
  },
  {
   "cell_type": "code",
   "execution_count": 21,
   "metadata": {},
   "outputs": [
    {
     "data": {
      "text/plain": [
       "{'description': 'Qubits are modelled as a two level system. Qubits are coupled through resonator buses. The provided Hamiltonian has been projected into the zero excitation subspace of the resonator buses leading to an effective qubit-qubit flip-flop interaction. The qubit resonance frequencies in the Hamiltonian are the cavity dressed frequencies and not exactly what is returned by the backend defaults, which also includes the dressing due to the qubit-qubit interactions.\\nWarning: Currently not all system Hamiltonian information is available to the public, missing values have been replaced with 0.\\n',\n",
       " 'h_latex': '\\\\begin{align} \\\\mathcal{H}/\\\\hbar = & \\\\sum_{i=0}^{0}\\\\left(\\\\frac{\\\\omega_{q,i}}{2} (\\\\mathbb{1}_i-\\\\sigma_i^{z})+ \\\\Omega_{d,i}D_i(t)\\\\sigma_i^{X}\\\\right) \\\\\\\\ \\\\end{align}',\n",
       " 'h_str': ['_SUM[i,0,0,wq{i}/2*(I{i}-Z{i})]',\n",
       "  '_SUM[i,0,0,omegad{i}*X{i}||D{i}]'],\n",
       " 'osc': {},\n",
       " 'qub': {'0': 2},\n",
       " 'vars': {'omegad0': 0, 'wq0': 31.254351486844612}}"
      ]
     },
     "execution_count": 21,
     "metadata": {},
     "output_type": "execute_result"
    }
   ],
   "source": [
    "getattr(armonk_backend.configuration(), 'hamiltonian')"
   ]
  },
  {
   "cell_type": "code",
   "execution_count": 24,
   "metadata": {},
   "outputs": [
    {
     "data": {
      "text/plain": [
       "False"
      ]
     },
     "execution_count": 24,
     "metadata": {},
     "output_type": "execute_result"
    }
   ],
   "source": [
    "{} != {}"
   ]
  },
  {
   "cell_type": "code",
   "execution_count": 25,
   "metadata": {},
   "outputs": [
    {
     "data": {
      "text/plain": [
       "0"
      ]
     },
     "execution_count": 25,
     "metadata": {},
     "output_type": "execute_result"
    }
   ],
   "source": [
    "len({})"
   ]
  },
  {
   "cell_type": "code",
   "execution_count": 26,
   "metadata": {},
   "outputs": [],
   "source": [
    "test = {'wow': 0}"
   ]
  },
  {
   "cell_type": "code",
   "execution_count": null,
   "metadata": {},
   "outputs": [],
   "source": []
  }
 ],
 "metadata": {
  "kernelspec": {
   "display_name": "Python 3",
   "language": "python",
   "name": "python3"
  },
  "language_info": {
   "codemirror_mode": {
    "name": "ipython",
    "version": 3
   },
   "file_extension": ".py",
   "mimetype": "text/x-python",
   "name": "python",
   "nbconvert_exporter": "python",
   "pygments_lexer": "ipython3",
   "version": "3.7.5"
  }
 },
 "nbformat": 4,
 "nbformat_minor": 2
}
